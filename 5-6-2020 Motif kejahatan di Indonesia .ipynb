{
 "cells": [
  {
   "cell_type": "code",
   "execution_count": 1,
   "metadata": {},
   "outputs": [
    {
     "name": "stdout",
     "output_type": "stream",
     "text": [
      "Sabu\n",
      "Ganja\n",
      "Putaw\n",
      "extacy\n"
     ]
    }
   ],
   "source": [
    "Narkoba=[\"Sabu\",\"Ganja\",\"Putaw\",\"extacy\"]\n",
    "for miskin in Narkoba:\n",
    "    print(miskin)"
   ]
  },
  {
   "cell_type": "code",
   "execution_count": 5,
   "metadata": {},
   "outputs": [
    {
     "name": "stdout",
     "output_type": "stream",
     "text": [
      "sabu\n"
     ]
    }
   ],
   "source": [
    "Kriminal=[\"sabu\",\"lapar\",\"Pencurian\",\"Jambret\",\"ranmor\"]\n",
    "for motif in Kriminal:\n",
    "    print(motif)\n",
    "    if motif ==\"sabu\":\n",
    "        break\n",
    "        continue"
   ]
  },
  {
   "cell_type": "code",
   "execution_count": null,
   "metadata": {},
   "outputs": [],
   "source": []
  }
 ],
 "metadata": {
  "kernelspec": {
   "display_name": "Python 3",
   "language": "python",
   "name": "python3"
  },
  "language_info": {
   "codemirror_mode": {
    "name": "ipython",
    "version": 3
   },
   "file_extension": ".py",
   "mimetype": "text/x-python",
   "name": "python",
   "nbconvert_exporter": "python",
   "pygments_lexer": "ipython3",
   "version": "3.7.4"
  }
 },
 "nbformat": 4,
 "nbformat_minor": 4
}
